{
 "cells": [
  {
   "cell_type": "markdown",
   "id": "ed8ab2f8",
   "metadata": {
    "papermill": {
     "duration": 0.009693,
     "end_time": "2022-08-16T16:33:59.236290",
     "exception": false,
     "start_time": "2022-08-16T16:33:59.226597",
     "status": "completed"
    },
    "tags": []
   },
   "source": [
    "## Titanic prediction with random forest"
   ]
  },
  {
   "cell_type": "code",
   "execution_count": 1,
   "id": "05e810e8",
   "metadata": {
    "execution": {
     "iopub.execute_input": "2022-08-16T16:33:59.254676Z",
     "iopub.status.busy": "2022-08-16T16:33:59.254213Z",
     "iopub.status.idle": "2022-08-16T16:34:00.735423Z",
     "shell.execute_reply": "2022-08-16T16:34:00.733799Z"
    },
    "papermill": {
     "duration": 1.494687,
     "end_time": "2022-08-16T16:34:00.739255",
     "exception": false,
     "start_time": "2022-08-16T16:33:59.244568",
     "status": "completed"
    },
    "tags": []
   },
   "outputs": [],
   "source": [
    "#Data visualisation\n",
    "import numpy as np\n",
    "import pandas as pd\n",
    "import matplotlib.pyplot as plt\n",
    "import seaborn as sns\n",
    "\n",
    "#Machine Learning models\n",
    "from sklearn.model_selection import GridSearchCV\n",
    "from sklearn.preprocessing import StandardScaler, LabelEncoder\n",
    "from sklearn.ensemble import RandomForestClassifier"
   ]
  },
  {
   "cell_type": "markdown",
   "id": "1fb9e357",
   "metadata": {
    "papermill": {
     "duration": 0.008558,
     "end_time": "2022-08-16T16:34:00.760053",
     "exception": false,
     "start_time": "2022-08-16T16:34:00.751495",
     "status": "completed"
    },
    "tags": []
   },
   "source": [
    "#### Get the data"
   ]
  },
  {
   "cell_type": "code",
   "execution_count": 2,
   "id": "ec070099",
   "metadata": {
    "execution": {
     "iopub.execute_input": "2022-08-16T16:34:00.780016Z",
     "iopub.status.busy": "2022-08-16T16:34:00.778606Z",
     "iopub.status.idle": "2022-08-16T16:34:00.819255Z",
     "shell.execute_reply": "2022-08-16T16:34:00.818213Z"
    },
    "papermill": {
     "duration": 0.053102,
     "end_time": "2022-08-16T16:34:00.821950",
     "exception": false,
     "start_time": "2022-08-16T16:34:00.768848",
     "status": "completed"
    },
    "scrolled": true,
    "tags": []
   },
   "outputs": [],
   "source": [
    "train_df = pd.read_csv(r\"C:\\Users\\Lokesh\\OneDrive\\Desktop\\train.csv\", index_col ='PassengerId')\n",
    "test_df = pd.read_csv(r\"C:\\Users\\Lokesh\\OneDrive\\Desktop\\test.csv\", index_col ='PassengerId')"
   ]
  },
  {
   "cell_type": "markdown",
   "id": "b4a195f4",
   "metadata": {
    "papermill": {
     "duration": 0.007886,
     "end_time": "2022-08-16T16:34:00.838220",
     "exception": false,
     "start_time": "2022-08-16T16:34:00.830334",
     "status": "completed"
    },
    "tags": []
   },
   "source": [
    "#### Visualize the dataset"
   ]
  },
  {
   "cell_type": "code",
   "execution_count": 3,
   "id": "d666e4cc",
   "metadata": {
    "execution": {
     "iopub.execute_input": "2022-08-16T16:34:00.855953Z",
     "iopub.status.busy": "2022-08-16T16:34:00.855520Z",
     "iopub.status.idle": "2022-08-16T16:34:00.879368Z",
     "shell.execute_reply": "2022-08-16T16:34:00.878425Z"
    },
    "papermill": {
     "duration": 0.035777,
     "end_time": "2022-08-16T16:34:00.882088",
     "exception": false,
     "start_time": "2022-08-16T16:34:00.846311",
     "status": "completed"
    },
    "scrolled": false,
    "tags": []
   },
   "outputs": [
    {
     "data": {
      "text/html": [
       "<div>\n",
       "<style scoped>\n",
       "    .dataframe tbody tr th:only-of-type {\n",
       "        vertical-align: middle;\n",
       "    }\n",
       "\n",
       "    .dataframe tbody tr th {\n",
       "        vertical-align: top;\n",
       "    }\n",
       "\n",
       "    .dataframe thead th {\n",
       "        text-align: right;\n",
       "    }\n",
       "</style>\n",
       "<table border=\"1\" class=\"dataframe\">\n",
       "  <thead>\n",
       "    <tr style=\"text-align: right;\">\n",
       "      <th></th>\n",
       "      <th>Survived</th>\n",
       "      <th>Pclass</th>\n",
       "      <th>Name</th>\n",
       "      <th>Sex</th>\n",
       "      <th>Age</th>\n",
       "      <th>SibSp</th>\n",
       "      <th>Parch</th>\n",
       "      <th>Ticket</th>\n",
       "      <th>Fare</th>\n",
       "      <th>Cabin</th>\n",
       "      <th>Embarked</th>\n",
       "    </tr>\n",
       "    <tr>\n",
       "      <th>PassengerId</th>\n",
       "      <th></th>\n",
       "      <th></th>\n",
       "      <th></th>\n",
       "      <th></th>\n",
       "      <th></th>\n",
       "      <th></th>\n",
       "      <th></th>\n",
       "      <th></th>\n",
       "      <th></th>\n",
       "      <th></th>\n",
       "      <th></th>\n",
       "    </tr>\n",
       "  </thead>\n",
       "  <tbody>\n",
       "    <tr>\n",
       "      <th>1</th>\n",
       "      <td>0</td>\n",
       "      <td>3</td>\n",
       "      <td>Braund, Mr. Owen Harris</td>\n",
       "      <td>male</td>\n",
       "      <td>22.0</td>\n",
       "      <td>1</td>\n",
       "      <td>0</td>\n",
       "      <td>A/5 21171</td>\n",
       "      <td>7.2500</td>\n",
       "      <td>NaN</td>\n",
       "      <td>S</td>\n",
       "    </tr>\n",
       "    <tr>\n",
       "      <th>2</th>\n",
       "      <td>1</td>\n",
       "      <td>1</td>\n",
       "      <td>Cumings, Mrs. John Bradley (Florence Briggs Th...</td>\n",
       "      <td>female</td>\n",
       "      <td>38.0</td>\n",
       "      <td>1</td>\n",
       "      <td>0</td>\n",
       "      <td>PC 17599</td>\n",
       "      <td>71.2833</td>\n",
       "      <td>C85</td>\n",
       "      <td>C</td>\n",
       "    </tr>\n",
       "    <tr>\n",
       "      <th>3</th>\n",
       "      <td>1</td>\n",
       "      <td>3</td>\n",
       "      <td>Heikkinen, Miss. Laina</td>\n",
       "      <td>female</td>\n",
       "      <td>26.0</td>\n",
       "      <td>0</td>\n",
       "      <td>0</td>\n",
       "      <td>STON/O2. 3101282</td>\n",
       "      <td>7.9250</td>\n",
       "      <td>NaN</td>\n",
       "      <td>S</td>\n",
       "    </tr>\n",
       "    <tr>\n",
       "      <th>4</th>\n",
       "      <td>1</td>\n",
       "      <td>1</td>\n",
       "      <td>Futrelle, Mrs. Jacques Heath (Lily May Peel)</td>\n",
       "      <td>female</td>\n",
       "      <td>35.0</td>\n",
       "      <td>1</td>\n",
       "      <td>0</td>\n",
       "      <td>113803</td>\n",
       "      <td>53.1000</td>\n",
       "      <td>C123</td>\n",
       "      <td>S</td>\n",
       "    </tr>\n",
       "    <tr>\n",
       "      <th>5</th>\n",
       "      <td>0</td>\n",
       "      <td>3</td>\n",
       "      <td>Allen, Mr. William Henry</td>\n",
       "      <td>male</td>\n",
       "      <td>35.0</td>\n",
       "      <td>0</td>\n",
       "      <td>0</td>\n",
       "      <td>373450</td>\n",
       "      <td>8.0500</td>\n",
       "      <td>NaN</td>\n",
       "      <td>S</td>\n",
       "    </tr>\n",
       "  </tbody>\n",
       "</table>\n",
       "</div>"
      ],
      "text/plain": [
       "             Survived  Pclass  \\\n",
       "PassengerId                     \n",
       "1                   0       3   \n",
       "2                   1       1   \n",
       "3                   1       3   \n",
       "4                   1       1   \n",
       "5                   0       3   \n",
       "\n",
       "                                                          Name     Sex   Age  \\\n",
       "PassengerId                                                                    \n",
       "1                                      Braund, Mr. Owen Harris    male  22.0   \n",
       "2            Cumings, Mrs. John Bradley (Florence Briggs Th...  female  38.0   \n",
       "3                                       Heikkinen, Miss. Laina  female  26.0   \n",
       "4                 Futrelle, Mrs. Jacques Heath (Lily May Peel)  female  35.0   \n",
       "5                                     Allen, Mr. William Henry    male  35.0   \n",
       "\n",
       "             SibSp  Parch            Ticket     Fare Cabin Embarked  \n",
       "PassengerId                                                          \n",
       "1                1      0         A/5 21171   7.2500   NaN        S  \n",
       "2                1      0          PC 17599  71.2833   C85        C  \n",
       "3                0      0  STON/O2. 3101282   7.9250   NaN        S  \n",
       "4                1      0            113803  53.1000  C123        S  \n",
       "5                0      0            373450   8.0500   NaN        S  "
      ]
     },
     "execution_count": 3,
     "metadata": {},
     "output_type": "execute_result"
    }
   ],
   "source": [
    "train_df.head()"
   ]
  },
  {
   "cell_type": "code",
   "execution_count": 4,
   "id": "218a354b",
   "metadata": {
    "scrolled": true
   },
   "outputs": [
    {
     "data": {
      "text/html": [
       "<div>\n",
       "<style scoped>\n",
       "    .dataframe tbody tr th:only-of-type {\n",
       "        vertical-align: middle;\n",
       "    }\n",
       "\n",
       "    .dataframe tbody tr th {\n",
       "        vertical-align: top;\n",
       "    }\n",
       "\n",
       "    .dataframe thead th {\n",
       "        text-align: right;\n",
       "    }\n",
       "</style>\n",
       "<table border=\"1\" class=\"dataframe\">\n",
       "  <thead>\n",
       "    <tr style=\"text-align: right;\">\n",
       "      <th></th>\n",
       "      <th>Survived</th>\n",
       "      <th>Pclass</th>\n",
       "      <th>Name</th>\n",
       "      <th>Sex</th>\n",
       "      <th>Age</th>\n",
       "      <th>SibSp</th>\n",
       "      <th>Parch</th>\n",
       "      <th>Ticket</th>\n",
       "      <th>Fare</th>\n",
       "      <th>Cabin</th>\n",
       "      <th>Embarked</th>\n",
       "    </tr>\n",
       "    <tr>\n",
       "      <th>PassengerId</th>\n",
       "      <th></th>\n",
       "      <th></th>\n",
       "      <th></th>\n",
       "      <th></th>\n",
       "      <th></th>\n",
       "      <th></th>\n",
       "      <th></th>\n",
       "      <th></th>\n",
       "      <th></th>\n",
       "      <th></th>\n",
       "      <th></th>\n",
       "    </tr>\n",
       "  </thead>\n",
       "  <tbody>\n",
       "    <tr>\n",
       "      <th>887</th>\n",
       "      <td>0</td>\n",
       "      <td>2</td>\n",
       "      <td>Montvila, Rev. Juozas</td>\n",
       "      <td>male</td>\n",
       "      <td>27.0</td>\n",
       "      <td>0</td>\n",
       "      <td>0</td>\n",
       "      <td>211536</td>\n",
       "      <td>13.00</td>\n",
       "      <td>NaN</td>\n",
       "      <td>S</td>\n",
       "    </tr>\n",
       "    <tr>\n",
       "      <th>888</th>\n",
       "      <td>1</td>\n",
       "      <td>1</td>\n",
       "      <td>Graham, Miss. Margaret Edith</td>\n",
       "      <td>female</td>\n",
       "      <td>19.0</td>\n",
       "      <td>0</td>\n",
       "      <td>0</td>\n",
       "      <td>112053</td>\n",
       "      <td>30.00</td>\n",
       "      <td>B42</td>\n",
       "      <td>S</td>\n",
       "    </tr>\n",
       "    <tr>\n",
       "      <th>889</th>\n",
       "      <td>0</td>\n",
       "      <td>3</td>\n",
       "      <td>Johnston, Miss. Catherine Helen \"Carrie\"</td>\n",
       "      <td>female</td>\n",
       "      <td>NaN</td>\n",
       "      <td>1</td>\n",
       "      <td>2</td>\n",
       "      <td>W./C. 6607</td>\n",
       "      <td>23.45</td>\n",
       "      <td>NaN</td>\n",
       "      <td>S</td>\n",
       "    </tr>\n",
       "    <tr>\n",
       "      <th>890</th>\n",
       "      <td>1</td>\n",
       "      <td>1</td>\n",
       "      <td>Behr, Mr. Karl Howell</td>\n",
       "      <td>male</td>\n",
       "      <td>26.0</td>\n",
       "      <td>0</td>\n",
       "      <td>0</td>\n",
       "      <td>111369</td>\n",
       "      <td>30.00</td>\n",
       "      <td>C148</td>\n",
       "      <td>C</td>\n",
       "    </tr>\n",
       "    <tr>\n",
       "      <th>891</th>\n",
       "      <td>0</td>\n",
       "      <td>3</td>\n",
       "      <td>Dooley, Mr. Patrick</td>\n",
       "      <td>male</td>\n",
       "      <td>32.0</td>\n",
       "      <td>0</td>\n",
       "      <td>0</td>\n",
       "      <td>370376</td>\n",
       "      <td>7.75</td>\n",
       "      <td>NaN</td>\n",
       "      <td>Q</td>\n",
       "    </tr>\n",
       "  </tbody>\n",
       "</table>\n",
       "</div>"
      ],
      "text/plain": [
       "             Survived  Pclass                                      Name  \\\n",
       "PassengerId                                                               \n",
       "887                 0       2                     Montvila, Rev. Juozas   \n",
       "888                 1       1              Graham, Miss. Margaret Edith   \n",
       "889                 0       3  Johnston, Miss. Catherine Helen \"Carrie\"   \n",
       "890                 1       1                     Behr, Mr. Karl Howell   \n",
       "891                 0       3                       Dooley, Mr. Patrick   \n",
       "\n",
       "                Sex   Age  SibSp  Parch      Ticket   Fare Cabin Embarked  \n",
       "PassengerId                                                                \n",
       "887            male  27.0      0      0      211536  13.00   NaN        S  \n",
       "888          female  19.0      0      0      112053  30.00   B42        S  \n",
       "889          female   NaN      1      2  W./C. 6607  23.45   NaN        S  \n",
       "890            male  26.0      0      0      111369  30.00  C148        C  \n",
       "891            male  32.0      0      0      370376   7.75   NaN        Q  "
      ]
     },
     "execution_count": 4,
     "metadata": {},
     "output_type": "execute_result"
    }
   ],
   "source": [
    "train_df.tail()"
   ]
  },
  {
   "cell_type": "code",
   "execution_count": 5,
   "id": "6d25033d",
   "metadata": {},
   "outputs": [
    {
     "name": "stdout",
     "output_type": "stream",
     "text": [
      "<class 'pandas.core.frame.DataFrame'>\n",
      "Int64Index: 891 entries, 1 to 891\n",
      "Data columns (total 11 columns):\n",
      " #   Column    Non-Null Count  Dtype  \n",
      "---  ------    --------------  -----  \n",
      " 0   Survived  891 non-null    int64  \n",
      " 1   Pclass    891 non-null    int64  \n",
      " 2   Name      891 non-null    object \n",
      " 3   Sex       891 non-null    object \n",
      " 4   Age       714 non-null    float64\n",
      " 5   SibSp     891 non-null    int64  \n",
      " 6   Parch     891 non-null    int64  \n",
      " 7   Ticket    891 non-null    object \n",
      " 8   Fare      891 non-null    float64\n",
      " 9   Cabin     204 non-null    object \n",
      " 10  Embarked  889 non-null    object \n",
      "dtypes: float64(2), int64(4), object(5)\n",
      "memory usage: 83.5+ KB\n"
     ]
    }
   ],
   "source": [
    "train_df.info()"
   ]
  },
  {
   "cell_type": "code",
   "execution_count": 6,
   "id": "ee812663",
   "metadata": {},
   "outputs": [
    {
     "data": {
      "text/html": [
       "<div>\n",
       "<style scoped>\n",
       "    .dataframe tbody tr th:only-of-type {\n",
       "        vertical-align: middle;\n",
       "    }\n",
       "\n",
       "    .dataframe tbody tr th {\n",
       "        vertical-align: top;\n",
       "    }\n",
       "\n",
       "    .dataframe thead th {\n",
       "        text-align: right;\n",
       "    }\n",
       "</style>\n",
       "<table border=\"1\" class=\"dataframe\">\n",
       "  <thead>\n",
       "    <tr style=\"text-align: right;\">\n",
       "      <th></th>\n",
       "      <th>Survived</th>\n",
       "      <th>Pclass</th>\n",
       "      <th>Age</th>\n",
       "      <th>SibSp</th>\n",
       "      <th>Parch</th>\n",
       "      <th>Fare</th>\n",
       "    </tr>\n",
       "  </thead>\n",
       "  <tbody>\n",
       "    <tr>\n",
       "      <th>count</th>\n",
       "      <td>891.000000</td>\n",
       "      <td>891.000000</td>\n",
       "      <td>714.000000</td>\n",
       "      <td>891.000000</td>\n",
       "      <td>891.000000</td>\n",
       "      <td>891.000000</td>\n",
       "    </tr>\n",
       "    <tr>\n",
       "      <th>mean</th>\n",
       "      <td>0.383838</td>\n",
       "      <td>2.308642</td>\n",
       "      <td>29.699118</td>\n",
       "      <td>0.523008</td>\n",
       "      <td>0.381594</td>\n",
       "      <td>32.204208</td>\n",
       "    </tr>\n",
       "    <tr>\n",
       "      <th>std</th>\n",
       "      <td>0.486592</td>\n",
       "      <td>0.836071</td>\n",
       "      <td>14.526497</td>\n",
       "      <td>1.102743</td>\n",
       "      <td>0.806057</td>\n",
       "      <td>49.693429</td>\n",
       "    </tr>\n",
       "    <tr>\n",
       "      <th>min</th>\n",
       "      <td>0.000000</td>\n",
       "      <td>1.000000</td>\n",
       "      <td>0.420000</td>\n",
       "      <td>0.000000</td>\n",
       "      <td>0.000000</td>\n",
       "      <td>0.000000</td>\n",
       "    </tr>\n",
       "    <tr>\n",
       "      <th>25%</th>\n",
       "      <td>0.000000</td>\n",
       "      <td>2.000000</td>\n",
       "      <td>20.125000</td>\n",
       "      <td>0.000000</td>\n",
       "      <td>0.000000</td>\n",
       "      <td>7.910400</td>\n",
       "    </tr>\n",
       "    <tr>\n",
       "      <th>50%</th>\n",
       "      <td>0.000000</td>\n",
       "      <td>3.000000</td>\n",
       "      <td>28.000000</td>\n",
       "      <td>0.000000</td>\n",
       "      <td>0.000000</td>\n",
       "      <td>14.454200</td>\n",
       "    </tr>\n",
       "    <tr>\n",
       "      <th>75%</th>\n",
       "      <td>1.000000</td>\n",
       "      <td>3.000000</td>\n",
       "      <td>38.000000</td>\n",
       "      <td>1.000000</td>\n",
       "      <td>0.000000</td>\n",
       "      <td>31.000000</td>\n",
       "    </tr>\n",
       "    <tr>\n",
       "      <th>max</th>\n",
       "      <td>1.000000</td>\n",
       "      <td>3.000000</td>\n",
       "      <td>80.000000</td>\n",
       "      <td>8.000000</td>\n",
       "      <td>6.000000</td>\n",
       "      <td>512.329200</td>\n",
       "    </tr>\n",
       "  </tbody>\n",
       "</table>\n",
       "</div>"
      ],
      "text/plain": [
       "         Survived      Pclass         Age       SibSp       Parch        Fare\n",
       "count  891.000000  891.000000  714.000000  891.000000  891.000000  891.000000\n",
       "mean     0.383838    2.308642   29.699118    0.523008    0.381594   32.204208\n",
       "std      0.486592    0.836071   14.526497    1.102743    0.806057   49.693429\n",
       "min      0.000000    1.000000    0.420000    0.000000    0.000000    0.000000\n",
       "25%      0.000000    2.000000   20.125000    0.000000    0.000000    7.910400\n",
       "50%      0.000000    3.000000   28.000000    0.000000    0.000000   14.454200\n",
       "75%      1.000000    3.000000   38.000000    1.000000    0.000000   31.000000\n",
       "max      1.000000    3.000000   80.000000    8.000000    6.000000  512.329200"
      ]
     },
     "execution_count": 6,
     "metadata": {},
     "output_type": "execute_result"
    }
   ],
   "source": [
    "train_df.describe()"
   ]
  },
  {
   "cell_type": "code",
   "execution_count": 7,
   "id": "e59b37a9",
   "metadata": {
    "scrolled": true
   },
   "outputs": [
    {
     "data": {
      "text/html": [
       "<div>\n",
       "<style scoped>\n",
       "    .dataframe tbody tr th:only-of-type {\n",
       "        vertical-align: middle;\n",
       "    }\n",
       "\n",
       "    .dataframe tbody tr th {\n",
       "        vertical-align: top;\n",
       "    }\n",
       "\n",
       "    .dataframe thead th {\n",
       "        text-align: right;\n",
       "    }\n",
       "</style>\n",
       "<table border=\"1\" class=\"dataframe\">\n",
       "  <thead>\n",
       "    <tr style=\"text-align: right;\">\n",
       "      <th></th>\n",
       "      <th>Name</th>\n",
       "      <th>Sex</th>\n",
       "      <th>Ticket</th>\n",
       "      <th>Cabin</th>\n",
       "      <th>Embarked</th>\n",
       "    </tr>\n",
       "  </thead>\n",
       "  <tbody>\n",
       "    <tr>\n",
       "      <th>count</th>\n",
       "      <td>891</td>\n",
       "      <td>891</td>\n",
       "      <td>891</td>\n",
       "      <td>204</td>\n",
       "      <td>889</td>\n",
       "    </tr>\n",
       "    <tr>\n",
       "      <th>unique</th>\n",
       "      <td>891</td>\n",
       "      <td>2</td>\n",
       "      <td>681</td>\n",
       "      <td>147</td>\n",
       "      <td>3</td>\n",
       "    </tr>\n",
       "    <tr>\n",
       "      <th>top</th>\n",
       "      <td>Braund, Mr. Owen Harris</td>\n",
       "      <td>male</td>\n",
       "      <td>347082</td>\n",
       "      <td>B96 B98</td>\n",
       "      <td>S</td>\n",
       "    </tr>\n",
       "    <tr>\n",
       "      <th>freq</th>\n",
       "      <td>1</td>\n",
       "      <td>577</td>\n",
       "      <td>7</td>\n",
       "      <td>4</td>\n",
       "      <td>644</td>\n",
       "    </tr>\n",
       "  </tbody>\n",
       "</table>\n",
       "</div>"
      ],
      "text/plain": [
       "                           Name   Sex  Ticket    Cabin Embarked\n",
       "count                       891   891     891      204      889\n",
       "unique                      891     2     681      147        3\n",
       "top     Braund, Mr. Owen Harris  male  347082  B96 B98        S\n",
       "freq                          1   577       7        4      644"
      ]
     },
     "execution_count": 7,
     "metadata": {},
     "output_type": "execute_result"
    }
   ],
   "source": [
    "train_df.describe(include=['O'])"
   ]
  },
  {
   "cell_type": "code",
   "execution_count": 8,
   "id": "f58c68c0",
   "metadata": {},
   "outputs": [
    {
     "data": {
      "text/html": [
       "<div>\n",
       "<style scoped>\n",
       "    .dataframe tbody tr th:only-of-type {\n",
       "        vertical-align: middle;\n",
       "    }\n",
       "\n",
       "    .dataframe tbody tr th {\n",
       "        vertical-align: top;\n",
       "    }\n",
       "\n",
       "    .dataframe thead th {\n",
       "        text-align: right;\n",
       "    }\n",
       "</style>\n",
       "<table border=\"1\" class=\"dataframe\">\n",
       "  <thead>\n",
       "    <tr style=\"text-align: right;\">\n",
       "      <th></th>\n",
       "      <th>Pclass</th>\n",
       "      <th>Survived</th>\n",
       "    </tr>\n",
       "  </thead>\n",
       "  <tbody>\n",
       "    <tr>\n",
       "      <th>0</th>\n",
       "      <td>1</td>\n",
       "      <td>0.629630</td>\n",
       "    </tr>\n",
       "    <tr>\n",
       "      <th>1</th>\n",
       "      <td>2</td>\n",
       "      <td>0.472826</td>\n",
       "    </tr>\n",
       "    <tr>\n",
       "      <th>2</th>\n",
       "      <td>3</td>\n",
       "      <td>0.242363</td>\n",
       "    </tr>\n",
       "  </tbody>\n",
       "</table>\n",
       "</div>"
      ],
      "text/plain": [
       "   Pclass  Survived\n",
       "0       1  0.629630\n",
       "1       2  0.472826\n",
       "2       3  0.242363"
      ]
     },
     "execution_count": 8,
     "metadata": {},
     "output_type": "execute_result"
    }
   ],
   "source": [
    "# Correlating features Pclass and Survived\n",
    "train_df[['Pclass', 'Survived']].groupby(['Pclass'], as_index=False).mean().sort_values(by='Survived', ascending=False)"
   ]
  },
  {
   "cell_type": "code",
   "execution_count": 9,
   "id": "bba50e29",
   "metadata": {},
   "outputs": [
    {
     "data": {
      "text/html": [
       "<div>\n",
       "<style scoped>\n",
       "    .dataframe tbody tr th:only-of-type {\n",
       "        vertical-align: middle;\n",
       "    }\n",
       "\n",
       "    .dataframe tbody tr th {\n",
       "        vertical-align: top;\n",
       "    }\n",
       "\n",
       "    .dataframe thead th {\n",
       "        text-align: right;\n",
       "    }\n",
       "</style>\n",
       "<table border=\"1\" class=\"dataframe\">\n",
       "  <thead>\n",
       "    <tr style=\"text-align: right;\">\n",
       "      <th></th>\n",
       "      <th>Sex</th>\n",
       "      <th>Survived</th>\n",
       "    </tr>\n",
       "  </thead>\n",
       "  <tbody>\n",
       "    <tr>\n",
       "      <th>0</th>\n",
       "      <td>female</td>\n",
       "      <td>0.742038</td>\n",
       "    </tr>\n",
       "    <tr>\n",
       "      <th>1</th>\n",
       "      <td>male</td>\n",
       "      <td>0.188908</td>\n",
       "    </tr>\n",
       "  </tbody>\n",
       "</table>\n",
       "</div>"
      ],
      "text/plain": [
       "      Sex  Survived\n",
       "0  female  0.742038\n",
       "1    male  0.188908"
      ]
     },
     "execution_count": 9,
     "metadata": {},
     "output_type": "execute_result"
    }
   ],
   "source": [
    "# Correlating features Sex and Survived\n",
    "train_df[[\"Sex\", \"Survived\"]].groupby(['Sex'], as_index=False).mean().sort_values(by='Survived', ascending=False)"
   ]
  },
  {
   "cell_type": "code",
   "execution_count": 10,
   "id": "befd51d2",
   "metadata": {},
   "outputs": [
    {
     "data": {
      "text/html": [
       "<div>\n",
       "<style scoped>\n",
       "    .dataframe tbody tr th:only-of-type {\n",
       "        vertical-align: middle;\n",
       "    }\n",
       "\n",
       "    .dataframe tbody tr th {\n",
       "        vertical-align: top;\n",
       "    }\n",
       "\n",
       "    .dataframe thead th {\n",
       "        text-align: right;\n",
       "    }\n",
       "</style>\n",
       "<table border=\"1\" class=\"dataframe\">\n",
       "  <thead>\n",
       "    <tr style=\"text-align: right;\">\n",
       "      <th></th>\n",
       "      <th>SibSp</th>\n",
       "      <th>Survived</th>\n",
       "    </tr>\n",
       "  </thead>\n",
       "  <tbody>\n",
       "    <tr>\n",
       "      <th>1</th>\n",
       "      <td>1</td>\n",
       "      <td>0.535885</td>\n",
       "    </tr>\n",
       "    <tr>\n",
       "      <th>2</th>\n",
       "      <td>2</td>\n",
       "      <td>0.464286</td>\n",
       "    </tr>\n",
       "    <tr>\n",
       "      <th>0</th>\n",
       "      <td>0</td>\n",
       "      <td>0.345395</td>\n",
       "    </tr>\n",
       "    <tr>\n",
       "      <th>3</th>\n",
       "      <td>3</td>\n",
       "      <td>0.250000</td>\n",
       "    </tr>\n",
       "    <tr>\n",
       "      <th>4</th>\n",
       "      <td>4</td>\n",
       "      <td>0.166667</td>\n",
       "    </tr>\n",
       "    <tr>\n",
       "      <th>5</th>\n",
       "      <td>5</td>\n",
       "      <td>0.000000</td>\n",
       "    </tr>\n",
       "    <tr>\n",
       "      <th>6</th>\n",
       "      <td>8</td>\n",
       "      <td>0.000000</td>\n",
       "    </tr>\n",
       "  </tbody>\n",
       "</table>\n",
       "</div>"
      ],
      "text/plain": [
       "   SibSp  Survived\n",
       "1      1  0.535885\n",
       "2      2  0.464286\n",
       "0      0  0.345395\n",
       "3      3  0.250000\n",
       "4      4  0.166667\n",
       "5      5  0.000000\n",
       "6      8  0.000000"
      ]
     },
     "execution_count": 10,
     "metadata": {},
     "output_type": "execute_result"
    }
   ],
   "source": [
    "# Correlating features SibSp and Survived\n",
    "train_df[[\"SibSp\", \"Survived\"]].groupby(['SibSp'], as_index=False).mean().sort_values(by='Survived', ascending=False)"
   ]
  },
  {
   "cell_type": "code",
   "execution_count": 11,
   "id": "b2172b31",
   "metadata": {},
   "outputs": [
    {
     "data": {
      "text/html": [
       "<div>\n",
       "<style scoped>\n",
       "    .dataframe tbody tr th:only-of-type {\n",
       "        vertical-align: middle;\n",
       "    }\n",
       "\n",
       "    .dataframe tbody tr th {\n",
       "        vertical-align: top;\n",
       "    }\n",
       "\n",
       "    .dataframe thead th {\n",
       "        text-align: right;\n",
       "    }\n",
       "</style>\n",
       "<table border=\"1\" class=\"dataframe\">\n",
       "  <thead>\n",
       "    <tr style=\"text-align: right;\">\n",
       "      <th></th>\n",
       "      <th>Parch</th>\n",
       "      <th>Survived</th>\n",
       "    </tr>\n",
       "  </thead>\n",
       "  <tbody>\n",
       "    <tr>\n",
       "      <th>3</th>\n",
       "      <td>3</td>\n",
       "      <td>0.600000</td>\n",
       "    </tr>\n",
       "    <tr>\n",
       "      <th>1</th>\n",
       "      <td>1</td>\n",
       "      <td>0.550847</td>\n",
       "    </tr>\n",
       "    <tr>\n",
       "      <th>2</th>\n",
       "      <td>2</td>\n",
       "      <td>0.500000</td>\n",
       "    </tr>\n",
       "    <tr>\n",
       "      <th>0</th>\n",
       "      <td>0</td>\n",
       "      <td>0.343658</td>\n",
       "    </tr>\n",
       "    <tr>\n",
       "      <th>5</th>\n",
       "      <td>5</td>\n",
       "      <td>0.200000</td>\n",
       "    </tr>\n",
       "    <tr>\n",
       "      <th>4</th>\n",
       "      <td>4</td>\n",
       "      <td>0.000000</td>\n",
       "    </tr>\n",
       "    <tr>\n",
       "      <th>6</th>\n",
       "      <td>6</td>\n",
       "      <td>0.000000</td>\n",
       "    </tr>\n",
       "  </tbody>\n",
       "</table>\n",
       "</div>"
      ],
      "text/plain": [
       "   Parch  Survived\n",
       "3      3  0.600000\n",
       "1      1  0.550847\n",
       "2      2  0.500000\n",
       "0      0  0.343658\n",
       "5      5  0.200000\n",
       "4      4  0.000000\n",
       "6      6  0.000000"
      ]
     },
     "execution_count": 11,
     "metadata": {},
     "output_type": "execute_result"
    }
   ],
   "source": [
    "# Correlating featues Parch and Survived\n",
    "train_df[[\"Parch\", \"Survived\"]].groupby(['Parch'], as_index=False).mean().sort_values(by='Survived', ascending=False)"
   ]
  },
  {
   "cell_type": "code",
   "execution_count": 12,
   "id": "6a30a4b7",
   "metadata": {},
   "outputs": [
    {
     "data": {
      "text/plain": [
       "<seaborn.axisgrid.FacetGrid at 0x212e06c0ca0>"
      ]
     },
     "execution_count": 12,
     "metadata": {},
     "output_type": "execute_result"
    },
    {
     "data": {
      "image/png": "[encoded data removed]",
      "text/plain": [
       "<Figure size 432x216 with 2 Axes>"
      ]
     },
     "metadata": {
      "needs_background": "light"
     },
     "output_type": "display_data"
    }
   ],
   "source": [
    "# Plotting age and survived\n",
    "g = sns.FacetGrid(train_df, col='Survived')\n",
    "g.map(plt.hist, 'Age', bins=20)"
   ]
  },
  {
   "cell_type": "code",
   "execution_count": 13,
   "id": "baded07a",
   "metadata": {},
   "outputs": [
    {
     "name": "stderr",
     "output_type": "stream",
     "text": [
      "C:\\Users\\Lokesh\\anaconda3\\lib\\site-packages\\seaborn\\axisgrid.py:337: UserWarning: The `size` parameter has been renamed to `height`; please update your code.\n",
      "  warnings.warn(msg, UserWarning)\n"
     ]
    },
    {
     "data": {
      "image/png": "[encoded data removed]",
      "text/plain": [
       "<Figure size 514.88x475.2 with 6 Axes>"
      ]
     },
     "metadata": {
      "needs_background": "light"
     },
     "output_type": "display_data"
    }
   ],
   "source": [
    "grid = sns.FacetGrid(train_df, col='Survived', row='Pclass', size=2.2, aspect=1.6)\n",
    "grid.map(plt.hist, 'Age', alpha=.5, bins=20)\n",
    "grid.add_legend();"
   ]
  },
  {
   "cell_type": "code",
   "execution_count": 14,
   "id": "48c46c12",
   "metadata": {},
   "outputs": [
    {
     "name": "stderr",
     "output_type": "stream",
     "text": [
      "C:\\Users\\Lokesh\\anaconda3\\lib\\site-packages\\seaborn\\_decorators.py:36: FutureWarning: Pass the following variables as keyword args: x, y. From version 0.12, the only valid positional argument will be `data`, and passing other arguments without an explicit keyword will result in an error or misinterpretation.\n",
      "  warnings.warn(\n"
     ]
    },
    {
     "data": {
      "text/plain": [
       "<seaborn.axisgrid.FacetGrid at 0x212e0e53b50>"
      ]
     },
     "execution_count": 14,
     "metadata": {},
     "output_type": "execute_result"
    },
    {
     "data": {
      "image/png": "[encoded data removed]",
      "text/plain": [
       "<Figure size 360x360 with 1 Axes>"
      ]
     },
     "metadata": {
      "needs_background": "light"
     },
     "output_type": "display_data"
    }
   ],
   "source": [
    "sns.lmplot('Age','Survived',data=train_df)"
   ]
  },
  {
   "cell_type": "code",
   "execution_count": 15,
   "id": "143afbd7",
   "metadata": {},
   "outputs": [
    {
     "name": "stderr",
     "output_type": "stream",
     "text": [
      "C:\\Users\\Lokesh\\anaconda3\\lib\\site-packages\\seaborn\\_decorators.py:36: FutureWarning: Pass the following variables as keyword args: x, y. From version 0.12, the only valid positional argument will be `data`, and passing other arguments without an explicit keyword will result in an error or misinterpretation.\n",
      "  warnings.warn(\n"
     ]
    },
    {
     "data": {
      "text/plain": [
       "<seaborn.axisgrid.FacetGrid at 0x212e1304a60>"
      ]
     },
     "execution_count": 15,
     "metadata": {},
     "output_type": "execute_result"
    },
    {
     "data": {
      "image/png": "[encoded data removed]",
      "text/plain": [
       "<Figure size 402.375x360 with 1 Axes>"
      ]
     },
     "metadata": {
      "needs_background": "light"
     },
     "output_type": "display_data"
    }
   ],
   "source": [
    "sns.lmplot('Age','Survived',data=train_df,hue='Pclass')"
   ]
  },
  {
   "cell_type": "code",
   "execution_count": 16,
   "id": "7fe3aa8a",
   "metadata": {},
   "outputs": [
    {
     "name": "stderr",
     "output_type": "stream",
     "text": [
      "C:\\Users\\Lokesh\\anaconda3\\lib\\site-packages\\seaborn\\_decorators.py:36: FutureWarning: Pass the following variables as keyword args: x, y. From version 0.12, the only valid positional argument will be `data`, and passing other arguments without an explicit keyword will result in an error or misinterpretation.\n",
      "  warnings.warn(\n"
     ]
    },
    {
     "data": {
      "text/plain": [
       "<seaborn.axisgrid.FacetGrid at 0x212e127a040>"
      ]
     },
     "execution_count": 16,
     "metadata": {},
     "output_type": "execute_result"
    },
    {
     "data": {
      "image/png": "[encoded data removed]",
      "text/plain": [
       "<Figure size 430.5x360 with 1 Axes>"
      ]
     },
     "metadata": {
      "needs_background": "light"
     },
     "output_type": "display_data"
    }
   ],
   "source": [
    "sns.lmplot('Age','Survived',data=train_df,hue='Sex')"
   ]
  },
  {
   "cell_type": "code",
   "execution_count": 17,
   "id": "d6bca373",
   "metadata": {},
   "outputs": [
    {
     "name": "stderr",
     "output_type": "stream",
     "text": [
      "C:\\Users\\Lokesh\\anaconda3\\lib\\site-packages\\seaborn\\categorical.py:3717: UserWarning: The `factorplot` function has been renamed to `catplot`. The original name will be removed in a future release. Please update your code. Note that the default `kind` in `factorplot` (`'point'`) has changed `'strip'` in `catplot`.\n",
      "  warnings.warn(msg)\n",
      "C:\\Users\\Lokesh\\anaconda3\\lib\\site-packages\\seaborn\\_decorators.py:36: FutureWarning: Pass the following variable as a keyword arg: x. From version 0.12, the only valid positional argument will be `data`, and passing other arguments without an explicit keyword will result in an error or misinterpretation.\n",
      "  warnings.warn(\n"
     ]
    },
    {
     "data": {
      "text/plain": [
       "<seaborn.axisgrid.FacetGrid at 0x212e132d220>"
      ]
     },
     "execution_count": 17,
     "metadata": {},
     "output_type": "execute_result"
    },
    {
     "data": {
      "image/png": "[encoded data removed]",
      "text/plain": [
       "<Figure size 360x360 with 1 Axes>"
      ]
     },
     "metadata": {
      "needs_background": "light"
     },
     "output_type": "display_data"
    }
   ],
   "source": [
    "sns.factorplot('Embarked',data=train_df,kind='count')"
   ]
  },
  {
   "cell_type": "code",
   "execution_count": 18,
   "id": "b68ace74",
   "metadata": {},
   "outputs": [
    {
     "name": "stderr",
     "output_type": "stream",
     "text": [
      "C:\\Users\\Lokesh\\anaconda3\\lib\\site-packages\\seaborn\\categorical.py:3717: UserWarning: The `factorplot` function has been renamed to `catplot`. The original name will be removed in a future release. Please update your code. Note that the default `kind` in `factorplot` (`'point'`) has changed `'strip'` in `catplot`.\n",
      "  warnings.warn(msg)\n",
      "C:\\Users\\Lokesh\\anaconda3\\lib\\site-packages\\seaborn\\_decorators.py:36: FutureWarning: Pass the following variable as a keyword arg: x. From version 0.12, the only valid positional argument will be `data`, and passing other arguments without an explicit keyword will result in an error or misinterpretation.\n",
      "  warnings.warn(\n"
     ]
    },
    {
     "data": {
      "text/plain": [
       "<seaborn.axisgrid.FacetGrid at 0x212e24b32b0>"
      ]
     },
     "execution_count": 18,
     "metadata": {},
     "output_type": "execute_result"
    },
    {
     "data": {
      "image/png": "[encoded data removed]",
      "text/plain": [
       "<Figure size 402.375x360 with 1 Axes>"
      ]
     },
     "metadata": {
      "needs_background": "light"
     },
     "output_type": "display_data"
    }
   ],
   "source": [
    "sns.factorplot('Embarked',data=train_df,hue='Pclass',kind='count')"
   ]
  },
  {
   "cell_type": "code",
   "execution_count": 19,
   "id": "7c569a07",
   "metadata": {},
   "outputs": [
    {
     "name": "stderr",
     "output_type": "stream",
     "text": [
      "C:\\Users\\Lokesh\\anaconda3\\lib\\site-packages\\seaborn\\categorical.py:3717: UserWarning: The `factorplot` function has been renamed to `catplot`. The original name will be removed in a future release. Please update your code. Note that the default `kind` in `factorplot` (`'point'`) has changed `'strip'` in `catplot`.\n",
      "  warnings.warn(msg)\n",
      "C:\\Users\\Lokesh\\anaconda3\\lib\\site-packages\\seaborn\\_decorators.py:36: FutureWarning: Pass the following variable as a keyword arg: x. From version 0.12, the only valid positional argument will be `data`, and passing other arguments without an explicit keyword will result in an error or misinterpretation.\n",
      "  warnings.warn(\n"
     ]
    },
    {
     "data": {
      "text/plain": [
       "<seaborn.axisgrid.FacetGrid at 0x212e24d3940>"
      ]
     },
     "execution_count": 19,
     "metadata": {},
     "output_type": "execute_result"
    },
    {
     "data": {
      "image/png": "[encoded data removed]",
      "text/plain": [
       "<Figure size 360x360 with 1 Axes>"
      ]
     },
     "metadata": {
      "needs_background": "light"
     },
     "output_type": "display_data"
    }
   ],
   "source": [
    "sns.factorplot('Survived',data=train_df,kind='count')"
   ]
  },
  {
   "cell_type": "markdown",
   "id": "3a04075a",
   "metadata": {
    "papermill": {
     "duration": 0.007923,
     "end_time": "2022-08-16T16:34:00.898605",
     "exception": false,
     "start_time": "2022-08-16T16:34:00.890682",
     "status": "completed"
    },
    "tags": []
   },
   "source": [
    "#### Check the missing values"
   ]
  },
  {
   "cell_type": "code",
   "execution_count": 20,
   "id": "fa04dc76",
   "metadata": {
    "execution": {
     "iopub.execute_input": "2022-08-16T16:34:00.918118Z",
     "iopub.status.busy": "2022-08-16T16:34:00.917486Z",
     "iopub.status.idle": "2022-08-16T16:34:00.929137Z",
     "shell.execute_reply": "2022-08-16T16:34:00.928058Z"
    },
    "papermill": {
     "duration": 0.023818,
     "end_time": "2022-08-16T16:34:00.931686",
     "exception": false,
     "start_time": "2022-08-16T16:34:00.907868",
     "status": "completed"
    },
    "tags": []
   },
   "outputs": [
    {
     "name": "stdout",
     "output_type": "stream",
     "text": [
      "Cabin       77.104377\n",
      "Age         19.865320\n",
      "Embarked     0.224467\n",
      "Survived     0.000000\n",
      "Pclass       0.000000\n",
      "Name         0.000000\n",
      "Sex          0.000000\n",
      "SibSp        0.000000\n",
      "Parch        0.000000\n",
      "Ticket       0.000000\n",
      "Fare         0.000000\n",
      "dtype: float64\n",
      "Cabin       78.229665\n",
      "Age         20.574163\n",
      "Fare         0.239234\n",
      "Pclass       0.000000\n",
      "Name         0.000000\n",
      "Sex          0.000000\n",
      "SibSp        0.000000\n",
      "Parch        0.000000\n",
      "Ticket       0.000000\n",
      "Embarked     0.000000\n",
      "dtype: float64\n"
     ]
    }
   ],
   "source": [
    "print((train_df.isnull().sum().sort_values(ascending=False)*100)/train_df.shape[0])\n",
    "print((test_df.isnull().sum().sort_values(ascending=False)*100)/test_df.shape[0])"
   ]
  },
  {
   "cell_type": "markdown",
   "id": "a7c6310c",
   "metadata": {
    "papermill": {
     "duration": 0.008149,
     "end_time": "2022-08-16T16:34:00.948112",
     "exception": false,
     "start_time": "2022-08-16T16:34:00.939963",
     "status": "completed"
    },
    "tags": []
   },
   "source": [
    "#### We can drop the variables \"ticket\" and \"cabin,\" and we can extract additional data from the name variable, such as titles."
   ]
  },
  {
   "cell_type": "code",
   "execution_count": 21,
   "id": "87f48a6f",
   "metadata": {
    "execution": {
     "iopub.execute_input": "2022-08-16T16:34:00.967937Z",
     "iopub.status.busy": "2022-08-16T16:34:00.967303Z",
     "iopub.status.idle": "2022-08-16T16:34:01.002347Z",
     "shell.execute_reply": "2022-08-16T16:34:01.001363Z"
    },
    "papermill": {
     "duration": 0.047253,
     "end_time": "2022-08-16T16:34:01.004649",
     "exception": false,
     "start_time": "2022-08-16T16:34:00.957396",
     "status": "completed"
    },
    "scrolled": false,
    "tags": []
   },
   "outputs": [
    {
     "data": {
      "text/html": [
       "<div>\n",
       "<style scoped>\n",
       "    .dataframe tbody tr th:only-of-type {\n",
       "        vertical-align: middle;\n",
       "    }\n",
       "\n",
       "    .dataframe tbody tr th {\n",
       "        vertical-align: top;\n",
       "    }\n",
       "\n",
       "    .dataframe thead th {\n",
       "        text-align: right;\n",
       "    }\n",
       "</style>\n",
       "<table border=\"1\" class=\"dataframe\">\n",
       "  <thead>\n",
       "    <tr style=\"text-align: right;\">\n",
       "      <th>Sex</th>\n",
       "      <th>female</th>\n",
       "      <th>male</th>\n",
       "    </tr>\n",
       "    <tr>\n",
       "      <th>Title</th>\n",
       "      <th></th>\n",
       "      <th></th>\n",
       "    </tr>\n",
       "  </thead>\n",
       "  <tbody>\n",
       "    <tr>\n",
       "      <th>Capt</th>\n",
       "      <td>0</td>\n",
       "      <td>1</td>\n",
       "    </tr>\n",
       "    <tr>\n",
       "      <th>Col</th>\n",
       "      <td>0</td>\n",
       "      <td>2</td>\n",
       "    </tr>\n",
       "    <tr>\n",
       "      <th>Countess</th>\n",
       "      <td>1</td>\n",
       "      <td>0</td>\n",
       "    </tr>\n",
       "    <tr>\n",
       "      <th>Don</th>\n",
       "      <td>0</td>\n",
       "      <td>1</td>\n",
       "    </tr>\n",
       "    <tr>\n",
       "      <th>Dr</th>\n",
       "      <td>1</td>\n",
       "      <td>6</td>\n",
       "    </tr>\n",
       "    <tr>\n",
       "      <th>Jonkheer</th>\n",
       "      <td>0</td>\n",
       "      <td>1</td>\n",
       "    </tr>\n",
       "    <tr>\n",
       "      <th>Lady</th>\n",
       "      <td>1</td>\n",
       "      <td>0</td>\n",
       "    </tr>\n",
       "    <tr>\n",
       "      <th>Major</th>\n",
       "      <td>0</td>\n",
       "      <td>2</td>\n",
       "    </tr>\n",
       "    <tr>\n",
       "      <th>Master</th>\n",
       "      <td>0</td>\n",
       "      <td>40</td>\n",
       "    </tr>\n",
       "    <tr>\n",
       "      <th>Miss</th>\n",
       "      <td>182</td>\n",
       "      <td>0</td>\n",
       "    </tr>\n",
       "    <tr>\n",
       "      <th>Mlle</th>\n",
       "      <td>2</td>\n",
       "      <td>0</td>\n",
       "    </tr>\n",
       "    <tr>\n",
       "      <th>Mme</th>\n",
       "      <td>1</td>\n",
       "      <td>0</td>\n",
       "    </tr>\n",
       "    <tr>\n",
       "      <th>Mr</th>\n",
       "      <td>0</td>\n",
       "      <td>517</td>\n",
       "    </tr>\n",
       "    <tr>\n",
       "      <th>Mrs</th>\n",
       "      <td>125</td>\n",
       "      <td>0</td>\n",
       "    </tr>\n",
       "    <tr>\n",
       "      <th>Ms</th>\n",
       "      <td>1</td>\n",
       "      <td>0</td>\n",
       "    </tr>\n",
       "    <tr>\n",
       "      <th>Rev</th>\n",
       "      <td>0</td>\n",
       "      <td>6</td>\n",
       "    </tr>\n",
       "    <tr>\n",
       "      <th>Sir</th>\n",
       "      <td>0</td>\n",
       "      <td>1</td>\n",
       "    </tr>\n",
       "  </tbody>\n",
       "</table>\n",
       "</div>"
      ],
      "text/plain": [
       "Sex       female  male\n",
       "Title                 \n",
       "Capt           0     1\n",
       "Col            0     2\n",
       "Countess       1     0\n",
       "Don            0     1\n",
       "Dr             1     6\n",
       "Jonkheer       0     1\n",
       "Lady           1     0\n",
       "Major          0     2\n",
       "Master         0    40\n",
       "Miss         182     0\n",
       "Mlle           2     0\n",
       "Mme            1     0\n",
       "Mr             0   517\n",
       "Mrs          125     0\n",
       "Ms             1     0\n",
       "Rev            0     6\n",
       "Sir            0     1"
      ]
     },
     "execution_count": 21,
     "metadata": {},
     "output_type": "execute_result"
    }
   ],
   "source": [
    "#Title Extarction\n",
    "train_df['Title'] = train_df.Name.str.extract(' ([A-Za-z]+)\\.', expand=False)\n",
    "test_df['Title'] = test_df.Name.str.extract(' ([A-Za-z]+)\\.', expand=False)\n",
    "\n",
    "pd.crosstab(train_df['Title'], train_df['Sex'])"
   ]
  },
  {
   "cell_type": "code",
   "execution_count": 22,
   "id": "897d072a",
   "metadata": {
    "execution": {
     "iopub.execute_input": "2022-08-16T16:34:01.024679Z",
     "iopub.status.busy": "2022-08-16T16:34:01.024064Z",
     "iopub.status.idle": "2022-08-16T16:34:01.045672Z",
     "shell.execute_reply": "2022-08-16T16:34:01.044692Z"
    },
    "papermill": {
     "duration": 0.034144,
     "end_time": "2022-08-16T16:34:01.048021",
     "exception": false,
     "start_time": "2022-08-16T16:34:01.013877",
     "status": "completed"
    },
    "tags": []
   },
   "outputs": [
    {
     "data": {
      "text/html": [
       "<div>\n",
       "<style scoped>\n",
       "    .dataframe tbody tr th:only-of-type {\n",
       "        vertical-align: middle;\n",
       "    }\n",
       "\n",
       "    .dataframe tbody tr th {\n",
       "        vertical-align: top;\n",
       "    }\n",
       "\n",
       "    .dataframe thead th {\n",
       "        text-align: right;\n",
       "    }\n",
       "</style>\n",
       "<table border=\"1\" class=\"dataframe\">\n",
       "  <thead>\n",
       "    <tr style=\"text-align: right;\">\n",
       "      <th></th>\n",
       "      <th>Title</th>\n",
       "      <th>Survived</th>\n",
       "    </tr>\n",
       "  </thead>\n",
       "  <tbody>\n",
       "    <tr>\n",
       "      <th>0</th>\n",
       "      <td>Master</td>\n",
       "      <td>40</td>\n",
       "    </tr>\n",
       "    <tr>\n",
       "      <th>1</th>\n",
       "      <td>Miss</td>\n",
       "      <td>185</td>\n",
       "    </tr>\n",
       "    <tr>\n",
       "      <th>2</th>\n",
       "      <td>Mr</td>\n",
       "      <td>517</td>\n",
       "    </tr>\n",
       "    <tr>\n",
       "      <th>3</th>\n",
       "      <td>Mrs</td>\n",
       "      <td>126</td>\n",
       "    </tr>\n",
       "    <tr>\n",
       "      <th>4</th>\n",
       "      <td>Remaining</td>\n",
       "      <td>23</td>\n",
       "    </tr>\n",
       "  </tbody>\n",
       "</table>\n",
       "</div>"
      ],
      "text/plain": [
       "       Title  Survived\n",
       "0     Master        40\n",
       "1       Miss       185\n",
       "2         Mr       517\n",
       "3        Mrs       126\n",
       "4  Remaining        23"
      ]
     },
     "execution_count": 22,
     "metadata": {},
     "output_type": "execute_result"
    }
   ],
   "source": [
    "# Combining large number of titles into fewer ones\n",
    "combine_df = [train_df,test_df]\n",
    "for dataset in combine_df:\n",
    "    dataset['Title'] = dataset['Title'].replace(['Lady', 'Countess','Capt', 'Col',\\\n",
    " \t'Don', 'Dr', 'Major', 'Rev', 'Sir', 'Jonkheer', 'Dona'], 'Remaining')\n",
    "\n",
    "    dataset['Title'] = dataset['Title'].replace('Mlle', 'Miss')\n",
    "    dataset['Title'] = dataset['Title'].replace('Ms', 'Miss')\n",
    "    dataset['Title'] = dataset['Title'].replace('Mme', 'Mrs')\n",
    "    \n",
    "train_df[['Title', 'Survived']].groupby(['Title'], as_index=False).count()"
   ]
  },
  {
   "cell_type": "markdown",
   "id": "5786c847",
   "metadata": {
    "papermill": {
     "duration": 0.008539,
     "end_time": "2022-08-16T16:34:01.065290",
     "exception": false,
     "start_time": "2022-08-16T16:34:01.056751",
     "status": "completed"
    },
    "tags": []
   },
   "source": [
    "Variables can drop now"
   ]
  },
  {
   "cell_type": "code",
   "execution_count": 23,
   "id": "5d1def35",
   "metadata": {
    "execution": {
     "iopub.execute_input": "2022-08-16T16:34:01.084243Z",
     "iopub.status.busy": "2022-08-16T16:34:01.083830Z",
     "iopub.status.idle": "2022-08-16T16:34:01.091484Z",
     "shell.execute_reply": "2022-08-16T16:34:01.090282Z"
    },
    "papermill": {
     "duration": 0.019848,
     "end_time": "2022-08-16T16:34:01.093723",
     "exception": false,
     "start_time": "2022-08-16T16:34:01.073875",
     "status": "completed"
    },
    "tags": []
   },
   "outputs": [],
   "source": [
    "#Drop the Name variable\n",
    "train_df = train_df.drop([\"Name\"], axis=1)\n",
    "test_df = test_df.drop([\"Name\"], axis=1)"
   ]
  },
  {
   "cell_type": "code",
   "execution_count": 24,
   "id": "1ff819dd",
   "metadata": {},
   "outputs": [],
   "source": [
    "#Drop the Ticket variable\n",
    "train_df = train_df.drop([\"Ticket\"], axis=1)\n",
    "test_df = test_df.drop([\"Ticket\"], axis=1)"
   ]
  },
  {
   "cell_type": "code",
   "execution_count": 25,
   "id": "824d5fbe",
   "metadata": {},
   "outputs": [],
   "source": [
    "#Drop the Cabin variable\n",
    "train_df = train_df.drop([\"Cabin\"], axis=1)\n",
    "test_df = test_df.drop([\"Cabin\"], axis=1)"
   ]
  },
  {
   "cell_type": "markdown",
   "id": "d84771a2",
   "metadata": {
    "papermill": {
     "duration": 0.008448,
     "end_time": "2022-08-16T16:34:01.111265",
     "exception": false,
     "start_time": "2022-08-16T16:34:01.102817",
     "status": "completed"
    },
    "tags": []
   },
   "source": [
    "SibSp and Parch can be combined into a single variable called Family."
   ]
  },
  {
   "cell_type": "code",
   "execution_count": 26,
   "id": "028ad5a1",
   "metadata": {
    "execution": {
     "iopub.execute_input": "2022-08-16T16:34:01.130776Z",
     "iopub.status.busy": "2022-08-16T16:34:01.130221Z",
     "iopub.status.idle": "2022-08-16T16:34:01.141795Z",
     "shell.execute_reply": "2022-08-16T16:34:01.140573Z"
    },
    "papermill": {
     "duration": 0.024417,
     "end_time": "2022-08-16T16:34:01.144338",
     "exception": false,
     "start_time": "2022-08-16T16:34:01.119921",
     "status": "completed"
    },
    "tags": []
   },
   "outputs": [],
   "source": [
    "train_df['Family'] = np.where(train_df['SibSp'] + train_df['Parch'] > 0, 1, 0)\n",
    "test_df['Family'] = np.where(test_df['SibSp'] + test_df['Parch'] > 0, 1, 0)\n",
    "train_df.drop(['SibSp', 'Parch'], axis= 1, inplace= True)\n",
    "test_df.drop(['SibSp', 'Parch'], axis= 1, inplace= True)"
   ]
  },
  {
   "cell_type": "code",
   "execution_count": 27,
   "id": "cb24e8d9",
   "metadata": {
    "execution": {
     "iopub.execute_input": "2022-08-16T16:34:01.163949Z",
     "iopub.status.busy": "2022-08-16T16:34:01.163560Z",
     "iopub.status.idle": "2022-08-16T16:34:01.176873Z",
     "shell.execute_reply": "2022-08-16T16:34:01.175979Z"
    },
    "papermill": {
     "duration": 0.025929,
     "end_time": "2022-08-16T16:34:01.179261",
     "exception": false,
     "start_time": "2022-08-16T16:34:01.153332",
     "status": "completed"
    },
    "tags": []
   },
   "outputs": [
    {
     "data": {
      "text/html": [
       "<div>\n",
       "<style scoped>\n",
       "    .dataframe tbody tr th:only-of-type {\n",
       "        vertical-align: middle;\n",
       "    }\n",
       "\n",
       "    .dataframe tbody tr th {\n",
       "        vertical-align: top;\n",
       "    }\n",
       "\n",
       "    .dataframe thead th {\n",
       "        text-align: right;\n",
       "    }\n",
       "</style>\n",
       "<table border=\"1\" class=\"dataframe\">\n",
       "  <thead>\n",
       "    <tr style=\"text-align: right;\">\n",
       "      <th></th>\n",
       "      <th>Survived</th>\n",
       "      <th>Pclass</th>\n",
       "      <th>Sex</th>\n",
       "      <th>Age</th>\n",
       "      <th>Fare</th>\n",
       "      <th>Embarked</th>\n",
       "      <th>Title</th>\n",
       "      <th>Family</th>\n",
       "    </tr>\n",
       "    <tr>\n",
       "      <th>PassengerId</th>\n",
       "      <th></th>\n",
       "      <th></th>\n",
       "      <th></th>\n",
       "      <th></th>\n",
       "      <th></th>\n",
       "      <th></th>\n",
       "      <th></th>\n",
       "      <th></th>\n",
       "    </tr>\n",
       "  </thead>\n",
       "  <tbody>\n",
       "    <tr>\n",
       "      <th>1</th>\n",
       "      <td>0</td>\n",
       "      <td>3</td>\n",
       "      <td>male</td>\n",
       "      <td>22.0</td>\n",
       "      <td>7.2500</td>\n",
       "      <td>S</td>\n",
       "      <td>Mr</td>\n",
       "      <td>1</td>\n",
       "    </tr>\n",
       "    <tr>\n",
       "      <th>2</th>\n",
       "      <td>1</td>\n",
       "      <td>1</td>\n",
       "      <td>female</td>\n",
       "      <td>38.0</td>\n",
       "      <td>71.2833</td>\n",
       "      <td>C</td>\n",
       "      <td>Mrs</td>\n",
       "      <td>1</td>\n",
       "    </tr>\n",
       "    <tr>\n",
       "      <th>3</th>\n",
       "      <td>1</td>\n",
       "      <td>3</td>\n",
       "      <td>female</td>\n",
       "      <td>26.0</td>\n",
       "      <td>7.9250</td>\n",
       "      <td>S</td>\n",
       "      <td>Miss</td>\n",
       "      <td>0</td>\n",
       "    </tr>\n",
       "    <tr>\n",
       "      <th>4</th>\n",
       "      <td>1</td>\n",
       "      <td>1</td>\n",
       "      <td>female</td>\n",
       "      <td>35.0</td>\n",
       "      <td>53.1000</td>\n",
       "      <td>S</td>\n",
       "      <td>Mrs</td>\n",
       "      <td>1</td>\n",
       "    </tr>\n",
       "    <tr>\n",
       "      <th>5</th>\n",
       "      <td>0</td>\n",
       "      <td>3</td>\n",
       "      <td>male</td>\n",
       "      <td>35.0</td>\n",
       "      <td>8.0500</td>\n",
       "      <td>S</td>\n",
       "      <td>Mr</td>\n",
       "      <td>0</td>\n",
       "    </tr>\n",
       "  </tbody>\n",
       "</table>\n",
       "</div>"
      ],
      "text/plain": [
       "             Survived  Pclass     Sex   Age     Fare Embarked Title  Family\n",
       "PassengerId                                                                \n",
       "1                   0       3    male  22.0   7.2500        S    Mr       1\n",
       "2                   1       1  female  38.0  71.2833        C   Mrs       1\n",
       "3                   1       3  female  26.0   7.9250        S  Miss       0\n",
       "4                   1       1  female  35.0  53.1000        S   Mrs       1\n",
       "5                   0       3    male  35.0   8.0500        S    Mr       0"
      ]
     },
     "execution_count": 27,
     "metadata": {},
     "output_type": "execute_result"
    }
   ],
   "source": [
    "train_df.head()"
   ]
  },
  {
   "cell_type": "markdown",
   "id": "09586df9",
   "metadata": {
    "papermill": {
     "duration": 0.008546,
     "end_time": "2022-08-16T16:34:01.196924",
     "exception": false,
     "start_time": "2022-08-16T16:34:01.188378",
     "status": "completed"
    },
    "tags": []
   },
   "source": [
    "#### Lets assign the missing values"
   ]
  },
  {
   "cell_type": "code",
   "execution_count": 28,
   "id": "789e8a73",
   "metadata": {
    "execution": {
     "iopub.execute_input": "2022-08-16T16:34:01.216705Z",
     "iopub.status.busy": "2022-08-16T16:34:01.216077Z",
     "iopub.status.idle": "2022-08-16T16:34:01.224744Z",
     "shell.execute_reply": "2022-08-16T16:34:01.222864Z"
    },
    "papermill": {
     "duration": 0.022216,
     "end_time": "2022-08-16T16:34:01.227978",
     "exception": false,
     "start_time": "2022-08-16T16:34:01.205762",
     "status": "completed"
    },
    "tags": []
   },
   "outputs": [],
   "source": [
    "#Imputation of Variable Age\n",
    "train_df['Age'] = train_df.Age.fillna(train_df.Age.mean())\n",
    "test_df['Age'] = test_df.Age.fillna(test_df.Age.mean())"
   ]
  },
  {
   "cell_type": "code",
   "execution_count": 29,
   "id": "954ab5b1",
   "metadata": {
    "execution": {
     "iopub.execute_input": "2022-08-16T16:34:01.249320Z",
     "iopub.status.busy": "2022-08-16T16:34:01.248047Z",
     "iopub.status.idle": "2022-08-16T16:34:01.256304Z",
     "shell.execute_reply": "2022-08-16T16:34:01.255349Z"
    },
    "papermill": {
     "duration": 0.021557,
     "end_time": "2022-08-16T16:34:01.258909",
     "exception": false,
     "start_time": "2022-08-16T16:34:01.237352",
     "status": "completed"
    },
    "tags": []
   },
   "outputs": [],
   "source": [
    "#Imputation of Variable Fare\n",
    "test_df['Fare'].fillna(test_df['Fare'].median(), inplace= True)"
   ]
  },
  {
   "cell_type": "code",
   "execution_count": 30,
   "id": "5ff26ea8",
   "metadata": {
    "execution": {
     "iopub.execute_input": "2022-08-16T16:34:01.282446Z",
     "iopub.status.busy": "2022-08-16T16:34:01.281722Z",
     "iopub.status.idle": "2022-08-16T16:34:01.288984Z",
     "shell.execute_reply": "2022-08-16T16:34:01.288071Z"
    },
    "papermill": {
     "duration": 0.021865,
     "end_time": "2022-08-16T16:34:01.292497",
     "exception": false,
     "start_time": "2022-08-16T16:34:01.270632",
     "status": "completed"
    },
    "tags": []
   },
   "outputs": [],
   "source": [
    "#Imputation of variable Embarked\n",
    "train_df['Embarked'].fillna('S', inplace= True)\n",
    "test_df['Embarked'].fillna('S', inplace= True)"
   ]
  },
  {
   "cell_type": "markdown",
   "id": "98bc332a",
   "metadata": {
    "papermill": {
     "duration": 0.009624,
     "end_time": "2022-08-16T16:34:01.311798",
     "exception": false,
     "start_time": "2022-08-16T16:34:01.302174",
     "status": "completed"
    },
    "tags": []
   },
   "source": [
    "#### We must convert categorical data into quantitatives since our model cannot take into consideration category variables."
   ]
  },
  {
   "cell_type": "code",
   "execution_count": 31,
   "id": "ce3b7c8c",
   "metadata": {
    "execution": {
     "iopub.execute_input": "2022-08-16T16:34:01.333011Z",
     "iopub.status.busy": "2022-08-16T16:34:01.332583Z",
     "iopub.status.idle": "2022-08-16T16:34:01.341398Z",
     "shell.execute_reply": "2022-08-16T16:34:01.340449Z"
    },
    "papermill": {
     "duration": 0.021442,
     "end_time": "2022-08-16T16:34:01.343713",
     "exception": false,
     "start_time": "2022-08-16T16:34:01.322271",
     "status": "completed"
    },
    "tags": []
   },
   "outputs": [],
   "source": [
    "laben = LabelEncoder()\n",
    "train_df.Sex = laben.fit_transform(train_df['Sex'])\n",
    "train_df.Embarked = laben.fit_transform(train_df['Embarked'])\n",
    "train_df.Title = laben.fit_transform(train_df['Title'])"
   ]
  },
  {
   "cell_type": "code",
   "execution_count": 32,
   "id": "45c6d3be",
   "metadata": {
    "execution": {
     "iopub.execute_input": "2022-08-16T16:34:01.364506Z",
     "iopub.status.busy": "2022-08-16T16:34:01.363541Z",
     "iopub.status.idle": "2022-08-16T16:34:01.371289Z",
     "shell.execute_reply": "2022-08-16T16:34:01.370339Z"
    },
    "papermill": {
     "duration": 0.020923,
     "end_time": "2022-08-16T16:34:01.373621",
     "exception": false,
     "start_time": "2022-08-16T16:34:01.352698",
     "status": "completed"
    },
    "tags": []
   },
   "outputs": [],
   "source": [
    "test_df.Sex = laben.fit_transform(test_df['Sex'])\n",
    "test_df.Embarked = laben.fit_transform(test_df['Embarked'])\n",
    "test_df.Title = laben.fit_transform(test_df['Title'])"
   ]
  },
  {
   "cell_type": "markdown",
   "id": "931e9637",
   "metadata": {
    "papermill": {
     "duration": 0.00868,
     "end_time": "2022-08-16T16:34:01.391307",
     "exception": false,
     "start_time": "2022-08-16T16:34:01.382627",
     "status": "completed"
    },
    "tags": []
   },
   "source": [
    "#### Scaling"
   ]
  },
  {
   "cell_type": "code",
   "execution_count": 33,
   "id": "d7f449c2",
   "metadata": {
    "execution": {
     "iopub.execute_input": "2022-08-16T16:34:01.411341Z",
     "iopub.status.busy": "2022-08-16T16:34:01.410574Z",
     "iopub.status.idle": "2022-08-16T16:34:01.424208Z",
     "shell.execute_reply": "2022-08-16T16:34:01.423294Z"
    },
    "papermill": {
     "duration": 0.026459,
     "end_time": "2022-08-16T16:34:01.426662",
     "exception": false,
     "start_time": "2022-08-16T16:34:01.400203",
     "status": "completed"
    },
    "tags": []
   },
   "outputs": [],
   "source": [
    "standsca = StandardScaler()\n",
    "train_df[['Age', 'Fare']] = standsca.fit_transform(train_df[['Age', 'Fare']])\n",
    "test_df[['Age', 'Fare']] = standsca.fit_transform(test_df[['Age', 'Fare']])"
   ]
  },
  {
   "cell_type": "code",
   "execution_count": 34,
   "id": "2badd9e6",
   "metadata": {
    "execution": {
     "iopub.execute_input": "2022-08-16T16:34:01.447501Z",
     "iopub.status.busy": "2022-08-16T16:34:01.446556Z",
     "iopub.status.idle": "2022-08-16T16:34:01.459582Z",
     "shell.execute_reply": "2022-08-16T16:34:01.457810Z"
    },
    "papermill": {
     "duration": 0.026722,
     "end_time": "2022-08-16T16:34:01.462370",
     "exception": false,
     "start_time": "2022-08-16T16:34:01.435648",
     "status": "completed"
    },
    "tags": []
   },
   "outputs": [
    {
     "name": "stdout",
     "output_type": "stream",
     "text": [
      "             Pclass  Sex       Age      Fare  Embarked  Title  Family\n",
      "PassengerId                                                          \n",
      "892               3    1  0.334993 -0.497413         1      2       0\n",
      "893               3    0  1.325530 -0.512278         2      3       1\n",
      "894               2    1  2.514175 -0.464100         1      2       0\n",
      "895               3    1 -0.259330 -0.482475         2      2       0\n",
      "896               3    0 -0.655545 -0.417492         2      3       1\n",
      "----------------------------------------------------------------------\n",
      "             Survived  Pclass  Sex       Age      Fare  Embarked  Title  \\\n",
      "PassengerId                                                               \n",
      "1                   0       3    1 -0.592481 -0.502445         2      2   \n",
      "2                   1       1    0  0.638789  0.786845         0      3   \n",
      "3                   1       3    0 -0.284663 -0.488854         2      1   \n",
      "4                   1       1    0  0.407926  0.420730         2      3   \n",
      "5                   0       3    1  0.407926 -0.486337         2      2   \n",
      "\n",
      "             Family  \n",
      "PassengerId          \n",
      "1                 1  \n",
      "2                 1  \n",
      "3                 0  \n",
      "4                 1  \n",
      "5                 0  \n",
      "----------------------------------------------------------------------\n"
     ]
    }
   ],
   "source": [
    "print(test_df.head())\n",
    "print('-'*70)\n",
    "print(train_df.head())\n",
    "print('-'*70)"
   ]
  },
  {
   "cell_type": "markdown",
   "id": "8de9a602",
   "metadata": {
    "papermill": {
     "duration": 0.008766,
     "end_time": "2022-08-16T16:34:01.480452",
     "exception": false,
     "start_time": "2022-08-16T16:34:01.471686",
     "status": "completed"
    },
    "tags": []
   },
   "source": [
    "Let's divide our data and extract our target variable as well as the independent variables."
   ]
  },
  {
   "cell_type": "code",
   "execution_count": 35,
   "id": "8054b4a8",
   "metadata": {
    "execution": {
     "iopub.execute_input": "2022-08-16T16:34:01.500044Z",
     "iopub.status.busy": "2022-08-16T16:34:01.499602Z",
     "iopub.status.idle": "2022-08-16T16:34:01.505987Z",
     "shell.execute_reply": "2022-08-16T16:34:01.505048Z"
    },
    "papermill": {
     "duration": 0.018961,
     "end_time": "2022-08-16T16:34:01.508336",
     "exception": false,
     "start_time": "2022-08-16T16:34:01.489375",
     "status": "completed"
    },
    "tags": []
   },
   "outputs": [],
   "source": [
    "X = train_df.drop(\"Survived\", axis=1)\n",
    "y = train_df[\"Survived\"]"
   ]
  },
  {
   "cell_type": "markdown",
   "id": "9e36fda3",
   "metadata": {
    "papermill": {
     "duration": 0.008654,
     "end_time": "2022-08-16T16:34:01.526038",
     "exception": false,
     "start_time": "2022-08-16T16:34:01.517384",
     "status": "completed"
    },
    "tags": []
   },
   "source": [
    "#### The Hyper Parameters shall be used."
   ]
  },
  {
   "cell_type": "code",
   "execution_count": 36,
   "id": "cee7eaf5",
   "metadata": {
    "execution": {
     "iopub.execute_input": "2022-08-16T16:34:01.546063Z",
     "iopub.status.busy": "2022-08-16T16:34:01.545452Z",
     "iopub.status.idle": "2022-08-16T16:34:01.550899Z",
     "shell.execute_reply": "2022-08-16T16:34:01.549726Z"
    },
    "papermill": {
     "duration": 0.018045,
     "end_time": "2022-08-16T16:34:01.552969",
     "exception": false,
     "start_time": "2022-08-16T16:34:01.534924",
     "status": "completed"
    },
    "tags": []
   },
   "outputs": [],
   "source": [
    "# Grid Creation\n",
    "rf_grid = {'n_estimators': [100,150,200,250,300,350,400],\n",
    "               'max_depth': [1,2,3,4,5,6,7,8],\n",
    "}"
   ]
  },
  {
   "cell_type": "code",
   "execution_count": 37,
   "id": "8309aea4",
   "metadata": {
    "execution": {
     "iopub.execute_input": "2022-08-16T16:34:01.573173Z",
     "iopub.status.busy": "2022-08-16T16:34:01.572418Z",
     "iopub.status.idle": "2022-08-16T16:34:01.577294Z",
     "shell.execute_reply": "2022-08-16T16:34:01.576209Z"
    },
    "papermill": {
     "duration": 0.017434,
     "end_time": "2022-08-16T16:34:01.579452",
     "exception": false,
     "start_time": "2022-08-16T16:34:01.562018",
     "status": "completed"
    },
    "tags": []
   },
   "outputs": [],
   "source": [
    "rf_base = RandomForestClassifier()\n",
    "rf_random = GridSearchCV(estimator = rf_base, param_grid= rf_grid, cv = 5)"
   ]
  },
  {
   "cell_type": "code",
   "execution_count": 38,
   "id": "8be9d08e",
   "metadata": {
    "execution": {
     "iopub.execute_input": "2022-08-16T16:34:01.599827Z",
     "iopub.status.busy": "2022-08-16T16:34:01.599113Z",
     "iopub.status.idle": "2022-08-16T16:35:57.420657Z",
     "shell.execute_reply": "2022-08-16T16:35:57.419507Z"
    },
    "papermill": {
     "duration": 115.843997,
     "end_time": "2022-08-16T16:35:57.432739",
     "exception": false,
     "start_time": "2022-08-16T16:34:01.588742",
     "status": "completed"
    },
    "tags": []
   },
   "outputs": [
    {
     "data": {
      "text/plain": [
       "GridSearchCV(cv=5, estimator=RandomForestClassifier(),\n",
       "             param_grid={'max_depth': [1, 2, 3, 4, 5, 6, 7, 8],\n",
       "                         'n_estimators': [100, 150, 200, 250, 300, 350, 400]})"
      ]
     },
     "execution_count": 38,
     "metadata": {},
     "output_type": "execute_result"
    }
   ],
   "source": [
    "rf_random.fit(X, y)"
   ]
  },
  {
   "cell_type": "code",
   "execution_count": 39,
   "id": "9d15c96a",
   "metadata": {
    "execution": {
     "iopub.execute_input": "2022-08-16T16:35:57.454671Z",
     "iopub.status.busy": "2022-08-16T16:35:57.453673Z",
     "iopub.status.idle": "2022-08-16T16:35:57.461686Z",
     "shell.execute_reply": "2022-08-16T16:35:57.460407Z"
    },
    "papermill": {
     "duration": 0.022148,
     "end_time": "2022-08-16T16:35:57.464227",
     "exception": false,
     "start_time": "2022-08-16T16:35:57.442079",
     "status": "completed"
    },
    "tags": []
   },
   "outputs": [
    {
     "data": {
      "text/plain": [
       "0.8305442219571905"
      ]
     },
     "execution_count": 39,
     "metadata": {},
     "output_type": "execute_result"
    }
   ],
   "source": [
    "rf_random.best_score_"
   ]
  },
  {
   "cell_type": "markdown",
   "id": "257bc87e",
   "metadata": {
    "papermill": {
     "duration": 0.009401,
     "end_time": "2022-08-16T16:35:57.483673",
     "exception": false,
     "start_time": "2022-08-16T16:35:57.474272",
     "status": "completed"
    },
    "tags": []
   },
   "source": [
    "#### We can proceed with our prediction."
   ]
  },
  {
   "cell_type": "code",
   "execution_count": 40,
   "id": "fc696671",
   "metadata": {
    "execution": {
     "iopub.execute_input": "2022-08-16T16:35:57.503970Z",
     "iopub.status.busy": "2022-08-16T16:35:57.503544Z",
     "iopub.status.idle": "2022-08-16T16:35:57.544242Z",
     "shell.execute_reply": "2022-08-16T16:35:57.543202Z"
    },
    "papermill": {
     "duration": 0.053963,
     "end_time": "2022-08-16T16:35:57.546862",
     "exception": false,
     "start_time": "2022-08-16T16:35:57.492899",
     "status": "completed"
    },
    "tags": []
   },
   "outputs": [],
   "source": [
    "Survived = rf_random.predict(test_df)"
   ]
  },
  {
   "cell_type": "code",
   "execution_count": 41,
   "id": "a69ef025",
   "metadata": {
    "execution": {
     "iopub.execute_input": "2022-08-16T16:35:57.568656Z",
     "iopub.status.busy": "2022-08-16T16:35:57.567470Z",
     "iopub.status.idle": "2022-08-16T16:35:57.573210Z",
     "shell.execute_reply": "2022-08-16T16:35:57.572242Z"
    },
    "papermill": {
     "duration": 0.019154,
     "end_time": "2022-08-16T16:35:57.575649",
     "exception": false,
     "start_time": "2022-08-16T16:35:57.556495",
     "status": "completed"
    },
    "tags": []
   },
   "outputs": [],
   "source": [
    "data = pd.DataFrame({\"PassengerId\":test_df.index, \"Survived\": Survived})"
   ]
  },
  {
   "cell_type": "code",
   "execution_count": 42,
   "id": "027d9265",
   "metadata": {
    "execution": {
     "iopub.execute_input": "2022-08-16T16:35:57.596216Z",
     "iopub.status.busy": "2022-08-16T16:35:57.595787Z",
     "iopub.status.idle": "2022-08-16T16:35:57.604433Z",
     "shell.execute_reply": "2022-08-16T16:35:57.603274Z"
    },
    "papermill": {
     "duration": 0.021593,
     "end_time": "2022-08-16T16:35:57.606743",
     "exception": false,
     "start_time": "2022-08-16T16:35:57.585150",
     "status": "completed"
    },
    "tags": []
   },
   "outputs": [],
   "source": [
    "data.to_csv(r\"C:\\Users\\Lokesh\\OneDrive\\Desktop\\submission7.csv\", index = False)"
   ]
  }
 ],
 "metadata": {
  "kernelspec": {
   "display_name": "Python 3 (ipykernel)",
   "language": "python",
   "name": "python3"
  },
  "language_info": {
   "codemirror_mode": {
    "name": "ipython",
    "version": 3
   },
   "file_extension": ".py",
   "mimetype": "text/x-python",
   "name": "python",
   "nbconvert_exporter": "python",
   "pygments_lexer": "ipython3",
   "version": "3.9.7"
  },
  "papermill": {
   "default_parameters": {},
   "duration": 128.031014,
   "end_time": "2022-08-16T16:35:58.338649",
   "environment_variables": {},
   "exception": null,
   "input_path": "__notebook__.ipynb",
   "output_path": "__notebook__.ipynb",
   "parameters": {},
   "start_time": "2022-08-16T16:33:50.307635",
   "version": "2.3.4"
  }
 },
 "nbformat": 4,
 "nbformat_minor": 5
}
